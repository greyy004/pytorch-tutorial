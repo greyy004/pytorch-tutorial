{
  "nbformat": 4,
  "nbformat_minor": 0,
  "metadata": {
    "colab": {
      "provenance": [],
      "authorship_tag": "ABX9TyNdM3s+XsXMdLmOMnQ+Qx2J",
      "include_colab_link": true
    },
    "kernelspec": {
      "name": "python3",
      "display_name": "Python 3"
    },
    "language_info": {
      "name": "python"
    }
  },
  "cells": [
    {
      "cell_type": "markdown",
      "metadata": {
        "id": "view-in-github",
        "colab_type": "text"
      },
      "source": [
        "<a href=\"https://colab.research.google.com/github/greyy004/pytorch-tutorial/blob/main/Creating_NN.ipynb\" target=\"_parent\"><img src=\"https://colab.research.google.com/assets/colab-badge.svg\" alt=\"Open In Colab\"/></a>"
      ]
    },
    {
      "cell_type": "code",
      "execution_count": 3,
      "metadata": {
        "id": "vsuppp63UJ9L"
      },
      "outputs": [],
      "source": [
        "import torch\n",
        "import torch.nn as nn\n",
        "import torch.nn.functional as f"
      ]
    },
    {
      "cell_type": "code",
      "source": [
        "#create a model class that inherits nn.module\n",
        "class Model(nn.Module):\n",
        "  def __init__(self,in_feature=4,h1=8,h2=9,out_feature=3):\n",
        "    super(Model,self).__init__()\n",
        "    self.fc1=nn.Linear(in_feature,h1)\n",
        "    self.fc2=nn.Linear(h1,h2)\n",
        "    self.fc3=nn.Linear(h2,out_feature)\n",
        "\n",
        "  def forward(self,x):\n",
        "    x=f.relu(self.fc1(x))\n",
        "    x=f.relu(self.fc2(x))\n",
        "    x=self.fc3(x)\n",
        "    return x\n"
      ],
      "metadata": {
        "id": "w4nnw9WbULGH"
      },
      "execution_count": 8,
      "outputs": []
    },
    {
      "cell_type": "code",
      "source": [
        "#select random number for seed initialization\n",
        "torch.manual_seed(7)\n",
        "model =Model()"
      ],
      "metadata": {
        "id": "LxQ5EwSZVoau"
      },
      "execution_count": 12,
      "outputs": []
    },
    {
      "cell_type": "code",
      "source": [],
      "metadata": {
        "id": "CIywQA0bWikP"
      },
      "execution_count": null,
      "outputs": []
    }
  ]
}